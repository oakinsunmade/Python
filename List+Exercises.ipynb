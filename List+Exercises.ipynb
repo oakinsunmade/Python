{
 "cells": [
  {
   "cell_type": "code",
   "execution_count": 13,
   "metadata": {},
   "outputs": [],
   "source": [
    "#Q1 Create a tuple with all participant names in the JDA program\n",
    "JDATuple = ('Ola', ',Muhammad', 'Mehrnaz', 'Edward', 'Jerry', 'Temi', 'Leul', 'Pray', 'Santhiya', 'Gaurav', 'Winnie', 'Sunint', 'Suganya', 'Sowjanya', 'Sidney', 'Tony', 'Dami', 'Divya', 'Rasha', 'Akash', 'Ajinkya', 'Gilmara', 'Imara', 'Jainam', 'Chloe', 'Riley', 'Ulan', 'Romita', 'Saman', 'Saloni', 'Olaolusubomi', 'Kristina', 'Ochuko', 'Bob', 'Castro', 'Krys', 'Chidera', 'Akinsunmade', 'Mishael')"
   ]
  },
  {
   "cell_type": "code",
   "execution_count": 14,
   "metadata": {},
   "outputs": [
    {
     "data": {
      "text/plain": [
       "['Ola',\n",
       " ',Muhammad',\n",
       " 'Mehrnaz',\n",
       " 'Edward',\n",
       " 'Jerry',\n",
       " 'Temi',\n",
       " 'Leul',\n",
       " 'Pray',\n",
       " 'Santhiya',\n",
       " 'Gaurav',\n",
       " 'Winnie',\n",
       " 'Sunint',\n",
       " 'Suganya',\n",
       " 'Sowjanya',\n",
       " 'Sidney',\n",
       " 'Tony',\n",
       " 'Dami',\n",
       " 'Divya',\n",
       " 'Rasha',\n",
       " 'Akash',\n",
       " 'Ajinkya',\n",
       " 'Gilmara',\n",
       " 'Imara',\n",
       " 'Jainam',\n",
       " 'Chloe',\n",
       " 'Riley',\n",
       " 'Ulan',\n",
       " 'Romita',\n",
       " 'Saman',\n",
       " 'Saloni',\n",
       " 'Olaolusubomi',\n",
       " 'Kristina',\n",
       " 'Ochuko',\n",
       " 'Bob',\n",
       " 'Castro',\n",
       " 'Krys',\n",
       " 'Chidera',\n",
       " 'Akinsunmade',\n",
       " 'Mishael']"
      ]
     },
     "execution_count": 14,
     "metadata": {},
     "output_type": "execute_result"
    }
   ],
   "source": [
    "#Q2 Convert the tuple into a list called pps_L\n",
    "pps_L = list(JDATuple)\n",
    "pps_L"
   ]
  },
  {
   "cell_type": "code",
   "execution_count": 15,
   "metadata": {},
   "outputs": [
    {
     "data": {
      "text/plain": [
       "39"
      ]
     },
     "execution_count": 15,
     "metadata": {},
     "output_type": "execute_result"
    }
   ],
   "source": [
    "#Q3 What is the length of your list \n",
    "len(pps_L)"
   ]
  },
  {
   "cell_type": "code",
   "execution_count": 16,
   "metadata": {},
   "outputs": [
    {
     "name": "stdout",
     "output_type": "stream",
     "text": [
      "Edward Temi Sidney Olaolusubomi Mishael\n"
     ]
    }
   ],
   "source": [
    "#Q4 Find the values stored in indexes [3],[5],[14],[30],[38]\n",
    "print(pps_L[3],pps_L[5],pps_L[14],pps_L[30],pps_L[38])"
   ]
  },
  {
   "cell_type": "code",
   "execution_count": 17,
   "metadata": {},
   "outputs": [
    {
     "data": {
      "text/plain": [
       "False"
      ]
     },
     "execution_count": 17,
     "metadata": {},
     "output_type": "execute_result"
    }
   ],
   "source": [
    "#Q5 Check if \"Sarah\" is in the list\n",
    "\"Sarah\" in pps_L"
   ]
  },
  {
   "cell_type": "code",
   "execution_count": 18,
   "metadata": {},
   "outputs": [],
   "source": [
    "#Q6 Add \"Sarah\" to your list\n",
    "pps_L.append('Sarah')"
   ]
  },
  {
   "cell_type": "code",
   "execution_count": 19,
   "metadata": {},
   "outputs": [
    {
     "data": {
      "text/plain": [
       "False"
      ]
     },
     "execution_count": 19,
     "metadata": {},
     "output_type": "execute_result"
    }
   ],
   "source": [
    "#Q7 Check if \"Bashir\" is in the list\n",
    "\"Bashir\" in pps_L"
   ]
  },
  {
   "cell_type": "code",
   "execution_count": 20,
   "metadata": {},
   "outputs": [],
   "source": [
    "#Q9 Add \"Bashir\" to your list\n",
    "pps_L.append('Bashir')"
   ]
  },
  {
   "cell_type": "code",
   "execution_count": 21,
   "metadata": {},
   "outputs": [
    {
     "data": {
      "text/plain": [
       "39"
      ]
     },
     "execution_count": 21,
     "metadata": {},
     "output_type": "execute_result"
    }
   ],
   "source": [
    "#Q10 Find the index of the element \"Sarah\" in the list\n",
    "pps_L.index('Sarah')"
   ]
  },
  {
   "cell_type": "code",
   "execution_count": 22,
   "metadata": {},
   "outputs": [],
   "source": [
    "#Q11 Change the value of the index in Q10 from \"Sarah\" to \"Instructor\"\n",
    "pps_L[39] = 'Instructor'"
   ]
  },
  {
   "cell_type": "code",
   "execution_count": 23,
   "metadata": {},
   "outputs": [
    {
     "data": {
      "text/plain": [
       "40"
      ]
     },
     "execution_count": 23,
     "metadata": {},
     "output_type": "execute_result"
    }
   ],
   "source": [
    "#Q12 Find the index of the element \"Bashir\" in the list\n",
    "pps_L.index('Bashir')"
   ]
  },
  {
   "cell_type": "code",
   "execution_count": 24,
   "metadata": {},
   "outputs": [],
   "source": [
    "#Q13 Change the value of the index in Q12 from \"Bashir\" to \"Peer-Mentor\"\n",
    "pps_L[40] = \"Peer-Mentor\""
   ]
  },
  {
   "cell_type": "code",
   "execution_count": null,
   "metadata": {},
   "outputs": [],
   "source": []
  }
 ],
 "metadata": {
  "kernelspec": {
   "display_name": "Python 3",
   "language": "python",
   "name": "python3"
  },
  "language_info": {
   "codemirror_mode": {
    "name": "ipython",
    "version": 3
   },
   "file_extension": ".py",
   "mimetype": "text/x-python",
   "name": "python",
   "nbconvert_exporter": "python",
   "pygments_lexer": "ipython3",
   "version": "3.7.6"
  }
 },
 "nbformat": 4,
 "nbformat_minor": 4
}
